{
  "nbformat": 4,
  "nbformat_minor": 0,
  "metadata": {
    "colab": {
      "name": "Aula 6.ipynb",
      "version": "0.3.2",
      "provenance": [],
      "collapsed_sections": [],
      "include_colab_link": true
    },
    "kernelspec": {
      "name": "python3",
      "display_name": "Python 3"
    }
  },
  "cells": [
    {
      "cell_type": "markdown",
      "metadata": {
        "id": "view-in-github",
        "colab_type": "text"
      },
      "source": [
        "<a href=\"https://colab.research.google.com/github/Gescarduca/Sad2018/blob/master/Aula_6.ipynb\" target=\"_parent\"><img src=\"https://colab.research.google.com/assets/colab-badge.svg\" alt=\"Open In Colab\"/></a>"
      ]
    },
    {
      "metadata": {
        "id": "VrDI9hhJIPME",
        "colab_type": "code",
        "colab": {}
      },
      "cell_type": "code",
      "source": [
        "from sklearn import datasets\n",
        "import pandas as pd\n",
        "import numpy as np\n",
        "import matplotlib.pyplot as plt\n",
        "\n",
        "data = datasets.load_iris()\n",
        "\n",
        "\n",
        "dframe = pd.DataFrame(data.data, columns=data.feature_names)\n",
        "dframe.head()\n",
        "\n",
        "alldata = np.column_stack((data.data,data.target))\n",
        "allnames = np.append(data.feature_names,\"Classe\")\n",
        "dframe = pd.DataFrame(alldata, columns=allnames)\n",
        "dframe.head()\n",
        "\n",
        "stat = dframe.groupby(\"Classe\").agg([\"mean\",\"count\", \"std\"])\n",
        "stat\n",
        "\n",
        "X = dframe.groupby(\"petal width (cm)\").agg(\"max\")"
      ],
      "execution_count": 0,
      "outputs": []
    }
  ]
}